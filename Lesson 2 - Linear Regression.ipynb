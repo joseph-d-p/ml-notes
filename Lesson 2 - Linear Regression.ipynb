{
 "cells": [
  {
   "cell_type": "markdown",
   "id": "9ec7683e",
   "metadata": {},
   "source": [
    "## Linear Regression"
   ]
  },
  {
   "attachments": {
    "image.png": {
     "image/png": "[encoded data removed]"
    }
   },
   "cell_type": "markdown",
   "id": "4c2d6a66",
   "metadata": {},
   "source": [
    "### Mean Absolute Error\n",
    "https://en.wikipedia.org/wiki/Mean_absolute_error\n",
    "![image.png](attachment:image.png)"
   ]
  },
  {
   "cell_type": "markdown",
   "id": "4581b368",
   "metadata": {},
   "source": [
    "\n"
   ]
  },
  {
   "cell_type": "code",
   "execution_count": 25,
   "id": "230829c7",
   "metadata": {},
   "outputs": [
    {
     "name": "stdout",
     "output_type": "stream",
     "text": [
      "Mean Absolute Error: 3.88\n"
     ]
    }
   ],
   "source": [
    "# Quiz 12\n",
    "\n",
    "from sklearn.metrics import mean_absolute_error as mae\n",
    "\n",
    "def predict(x):\n",
    "    # Line: y = 1.2x + 2\n",
    "    return 1.2 * x + 2\n",
    "\n",
    "points = [(2, -2), (5, 6), (-4, -4), (-7, 1), (8, 14)]\n",
    "xcoords = [point[0] for point in points]\n",
    "\n",
    "true_values = [point[1] for point in points]\n",
    "predicted_values = [predict(x) for x in xcoords]\n",
    "\n",
    "error = mae(true_values, predicted_values)\n",
    "\n",
    "print(f\"Mean Absolute Error: {error}\")"
   ]
  },
  {
   "attachments": {
    "image.png": {
     "image/png": "[encoded data removed]"
    }
   },
   "cell_type": "markdown",
   "id": "c2c5d50a",
   "metadata": {},
   "source": [
    "### Mean Squared Error\n",
    "https://en.wikipedia.org/wiki/Mean_squared_error\n",
    "\n",
    "![image.png](attachment:image.png)"
   ]
  },
  {
   "cell_type": "code",
   "execution_count": 26,
   "id": "5f2c7675",
   "metadata": {},
   "outputs": [
    {
     "name": "stdout",
     "output_type": "stream",
     "text": [
      "Mean Squared Error: 21.38\n"
     ]
    }
   ],
   "source": [
    "# Quiz 12\n",
    "\n",
    "from sklearn.metrics import mean_squared_error as mse\n",
    "\n",
    "def predict(x):\n",
    "    # Line: y = 1.2x + 2\n",
    "    return 1.2 * x + 2\n",
    "\n",
    "points = [(2, -2), (5, 6), (-4, -4), (-7, 1), (8, 14)]\n",
    "xcoords = [point[0] for point in points]\n",
    "\n",
    "true_values = [point[1] for point in points]\n",
    "predicted_values = [predict(x) for x in xcoords]\n",
    "\n",
    "error = mse(true_values, predicted_values)\n",
    "\n",
    "print(f\"Mean Squared Error: {round(error, 2)}\")"
   ]
  },
  {
   "cell_type": "code",
   "execution_count": null,
   "id": "4c75e154",
   "metadata": {},
   "outputs": [],
   "source": []
  },
  {
   "cell_type": "code",
   "execution_count": null,
   "id": "71dd4e4a",
   "metadata": {},
   "outputs": [],
   "source": []
  }
 ],
 "metadata": {
  "kernelspec": {
   "display_name": "Python 3 (ipykernel)",
   "language": "python",
   "name": "python3"
  },
  "language_info": {
   "codemirror_mode": {
    "name": "ipython",
    "version": 3
   },
   "file_extension": ".py",
   "mimetype": "text/x-python",
   "name": "python",
   "nbconvert_exporter": "python",
   "pygments_lexer": "ipython3",
   "version": "3.8.8"
  }
 },
 "nbformat": 4,
 "nbformat_minor": 5
}
